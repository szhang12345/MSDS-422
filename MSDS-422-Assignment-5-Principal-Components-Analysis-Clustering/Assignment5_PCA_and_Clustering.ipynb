{
  "nbformat": 4,
  "nbformat_minor": 0,
  "metadata": {
    "colab": {
      "name": "Assignment5_PCA_and_Clustering.ipynb",
      "provenance": [],
      "collapsed_sections": [],
      "toc_visible": true,
      "include_colab_link": true
    },
    "kernelspec": {
      "display_name": "Python 3",
      "language": "python",
      "name": "python3"
    },
    "language_info": {
      "codemirror_mode": {
        "name": "ipython",
        "version": 3
      },
      "file_extension": ".py",
      "mimetype": "text/x-python",
      "name": "python",
      "nbconvert_exporter": "python",
      "pygments_lexer": "ipython3",
      "version": "3.8.5"
    }
  },
  "cells": [
    {
      "cell_type": "markdown",
      "metadata": {
        "id": "view-in-github",
        "colab_type": "text"
      },
      "source": [
        "<a href=\"https://colab.research.google.com/github/szhang12345/MSDS-422-Assignment-5-Principal-Components-Analysis-Clustering/blob/main/Assignment5_PCA_and_Clustering.ipynb\" target=\"_parent\"><img src=\"https://colab.research.google.com/assets/colab-badge.svg\" alt=\"Open In Colab\"/></a>"
      ]
    },
    {
      "cell_type": "markdown",
      "metadata": {
        "id": "3p4IoLQUz3Px"
      },
      "source": [
        "# **MSDS 422 Assignment 5: PCA and Clustering**\n",
        "\n",
        "**By Siying Zhang**\n",
        "\n",
        "**Topic: Digit Recognizer**\n"
      ]
    },
    {
      "cell_type": "markdown",
      "metadata": {
        "id": "_2NRJL0ozg6A"
      },
      "source": [
        "# Ingest"
      ]
    },
    {
      "cell_type": "code",
      "metadata": {
        "id": "rwIWqBuC1PFI"
      },
      "source": [
        "# To support both python 2 and python 3\n",
        "#Reference used for K-mean Cluster\n",
        "#https://medium.com/@joel_34096/k-means-clustering-for-image-classification-a648f28bdc47\n",
        "from __future__ import division, print_function, unicode_literals\n",
        "\n",
        "# import base packages into the namespace for this program\n",
        "import numpy as np\n",
        "import os\n",
        "import pandas as pd\n",
        "from pandas.plotting import scatter_matrix\n",
        "\n",
        "import time\n",
        "import datetime\n",
        "import os.path\n",
        "# modeling routines from Scikit Learn packages\n",
        "from sklearn.ensemble import RandomForestClassifier\n",
        "from sklearn.decomposition import PCA\n",
        "import urllib.request as ur\n",
        "from sklearn.metrics import accuracy_score, f1_score, precision_score, recall_score,\\\n",
        "                                classification_report, confusion_matrix\n",
        "from sklearn.model_selection import cross_val_predict\n",
        "\n",
        "%matplotlib inline\n",
        "import matplotlib\n",
        "import matplotlib.pyplot as plt\n",
        "import matplotlib # import matplotlib\n",
        "import matplotlib.pyplot as plt  # static plotting\n",
        "import seaborn as sns  # pretty plotting, including heat map\n",
        "plt.rcParams['axes.labelsize'] = 14\n",
        "plt.rcParams['xtick.labelsize'] = 12\n",
        "plt.rcParams['ytick.labelsize'] = 12\n",
        "# Random number seed\n",
        "seed = 42\n",
        "# Where to save the figures\n",
        "PROJECT_ROOT_DIR = \".\"\n",
        "CHAPTER_ID = \"classification\"\n",
        "\n",
        "def save_fig(fig_id, tight_layout=True):\n",
        "    path = os.path.join(PROJECT_ROOT_DIR, \"images\", CHAPTER_ID, fig_id + \".png\")\n",
        "    print(\"Saving figure\", fig_id)\n",
        "    if tight_layout:\n",
        "        plt.tight_layout()\n",
        "    plt.savefig(path, format='png', dpi=300)\n",
        "\n",
        "# read data\n",
        "# DATA PREPARATION\n",
        "\n",
        "# Download the data from an alternative source.\n",
        "# mldata.org appears to be down (July 8, 2018)\n",
        "#if not os.path.isfile('train.csv'):\n",
        "#    ur.urlretrieve('https://pjreddie.com/media/files/mnist_train.csv',\n",
        "#                   'train.csv')\n",
        "\n",
        "#if not os.path.isfile('test.csv'):\n",
        "#    ur.urlretrieve('https://pjreddie.com/media/files/mnist_test.csv',\n",
        " #                  'test.csv')\n",
        "\n",
        "\n"
      ],
      "execution_count": 9,
      "outputs": []
    },
    {
      "cell_type": "markdown",
      "metadata": {
        "id": "dwKr38qAodhg"
      },
      "source": [
        "Reading Data"
      ]
    },
    {
      "cell_type": "code",
      "metadata": {
        "id": "IjvKdN_Xipl1"
      },
      "source": [
        "!pip install -U -q PyDrive\r\n",
        "from pydrive.auth import GoogleAuth\r\n",
        "from pydrive.drive import GoogleDrive\r\n",
        "from google.colab import auth\r\n",
        "from oauth2client.client import GoogleCredentials\r\n",
        "# Authenticate and create the PyDrive client.\r\n",
        "auth.authenticate_user()\r\n",
        "gauth = GoogleAuth()\r\n",
        "gauth.credentials = GoogleCredentials.get_application_default()\r\n",
        "drive = GoogleDrive(gauth)"
      ],
      "execution_count": 2,
      "outputs": []
    },
    {
      "cell_type": "code",
      "metadata": {
        "id": "EiUM5yplmJ4D"
      },
      "source": [
        "link = 'https://drive.google.com/file/d/1h_aqU6TrbBNKi-0FKO22J6UGzyNRWDTh/view?usp=sharing'"
      ],
      "execution_count": 10,
      "outputs": []
    },
    {
      "cell_type": "code",
      "metadata": {
        "id": "ANvYk0o3n1fG"
      },
      "source": [
        "link2 = 'https://drive.google.com/file/d/1C_lcg3b1-ur5IRzNYFxXbfI8VZxurBUk/view?usp=sharing'"
      ],
      "execution_count": 11,
      "outputs": []
    },
    {
      "cell_type": "code",
      "metadata": {
        "id": "gD6EIT_5oL3J"
      },
      "source": [
        "downloaded = drive.CreateFile({'id':'1C_lcg3b1-ur5IRzNYFxXbfI8VZxurBUk'}) \r\n",
        "downloaded.GetContentFile('mnist_train.csv')  \r\n",
        "train = pd.read_csv('mnist_train.csv')"
      ],
      "execution_count": 13,
      "outputs": []
    },
    {
      "cell_type": "code",
      "metadata": {
        "id": "0qrcax-amjyH"
      },
      "source": [
        "downloaded = drive.CreateFile({'id':'1h_aqU6TrbBNKi-0FKO22J6UGzyNRWDTh'}) \r\n",
        "downloaded.GetContentFile('mnist_test.csv')  \r\n",
        "test = pd.read_csv('mnist_test.csv')"
      ],
      "execution_count": 12,
      "outputs": []
    },
    {
      "cell_type": "code",
      "metadata": {
        "id": "YioZRFSooKq9"
      },
      "source": [
        "# Create arrays for use with sklearn\r\n",
        "X_train = train.drop(['label'], axis=1).values\r\n",
        "y_train = train['label'].values\r\n",
        "X_test = test.drop(['label'], axis=1).values\r\n",
        "y_test = test['label'].values"
      ],
      "execution_count": 14,
      "outputs": []
    },
    {
      "cell_type": "markdown",
      "metadata": {
        "id": "1rTQ2--k0hDe"
      },
      "source": [
        "# EDA"
      ]
    },
    {
      "cell_type": "code",
      "metadata": {
        "colab": {
          "base_uri": "https://localhost:8080/"
        },
        "id": "DTWxNOiFxTr_",
        "outputId": "540f7a72-98b9-42ae-a60b-a36c98b788c6"
      },
      "source": [
        "# check the pandas DataFrame object training data\n",
        "print('\\nGeneral description of train set:')\n",
        "print(train.info())\n",
        "\n",
        "print('\\nDescriptive statistics of train set:')\n",
        "print(train.describe())"
      ],
      "execution_count": 15,
      "outputs": [
        {
          "output_type": "stream",
          "text": [
            "\n",
            "General description of train set:\n",
            "<class 'pandas.core.frame.DataFrame'>\n",
            "RangeIndex: 60000 entries, 0 to 59999\n",
            "Columns: 785 entries, label to 28x28\n",
            "dtypes: int64(785)\n",
            "memory usage: 359.3 MB\n",
            "None\n",
            "\n",
            "Descriptive statistics of train set:\n",
            "              label      1x1      1x2  ...    28x26    28x27    28x28\n",
            "count  60000.000000  60000.0  60000.0  ...  60000.0  60000.0  60000.0\n",
            "mean       4.453933      0.0      0.0  ...      0.0      0.0      0.0\n",
            "std        2.889270      0.0      0.0  ...      0.0      0.0      0.0\n",
            "min        0.000000      0.0      0.0  ...      0.0      0.0      0.0\n",
            "25%        2.000000      0.0      0.0  ...      0.0      0.0      0.0\n",
            "50%        4.000000      0.0      0.0  ...      0.0      0.0      0.0\n",
            "75%        7.000000      0.0      0.0  ...      0.0      0.0      0.0\n",
            "max        9.000000      0.0      0.0  ...      0.0      0.0      0.0\n",
            "\n",
            "[8 rows x 785 columns]\n"
          ],
          "name": "stdout"
        }
      ]
    },
    {
      "cell_type": "code",
      "metadata": {
        "scrolled": true,
        "colab": {
          "base_uri": "https://localhost:8080/"
        },
        "id": "hd8N4VABiQWy",
        "outputId": "9e3a3b58-5b4a-4ba4-a963-2f490d780228"
      },
      "source": [
        "#test and train set shape\n",
        "print(X_train.shape)\n",
        "print(y_train.shape)"
      ],
      "execution_count": 16,
      "outputs": [
        {
          "output_type": "stream",
          "text": [
            "(60000, 784)\n",
            "(60000,)\n"
          ],
          "name": "stdout"
        }
      ]
    },
    {
      "cell_type": "markdown",
      "metadata": {
        "id": "Dhs9ERqW0j_N"
      },
      "source": [
        "# Modeling"
      ]
    },
    {
      "cell_type": "markdown",
      "metadata": {
        "id": "sHkhz6CSAU5Z"
      },
      "source": [
        "Dictionary for result tracking"
      ]
    },
    {
      "cell_type": "code",
      "metadata": {
        "id": "CUoR8e4aAT7L"
      },
      "source": [
        "# Initialize a dictionary to track results\n",
        "metrics = {}\n",
        "\n",
        "# Metrics for evaluation\n",
        "names = ['F1 Score', 'Time', 'Number of Variables','Precision Score','Recall Score']\n"
      ],
      "execution_count": 17,
      "outputs": []
    },
    {
      "cell_type": "markdown",
      "metadata": {
        "id": "C-yd6-c6iQW2"
      },
      "source": [
        "Modeling Selection"
      ]
    },
    {
      "cell_type": "markdown",
      "metadata": {
        "id": "KxiP6ctTiQW3"
      },
      "source": [
        "1. Random Forest Model 1 - All Variables"
      ]
    },
    {
      "cell_type": "code",
      "metadata": {
        "colab": {
          "base_uri": "https://localhost:8080/"
        },
        "id": "W4k8dxq_iQW4",
        "outputId": "718f0641-c230-4001-ecf0-bb210f994489"
      },
      "source": [
        "# Start timer for fit the model\n",
        "start=datetime.datetime.now()\n",
        "\n",
        "#Fit Random Forest Classifier - all variables\n",
        "rf = RandomForestClassifier(n_estimators=784, max_features=\"sqrt\", bootstrap=True, n_jobs=-1, random_state=seed)\n",
        "rf.fit(X_train, y_train)\n",
        "\n",
        "end=datetime.datetime.now()\n",
        "duration = end-start\n",
        "\n",
        "print(duration)"
      ],
      "execution_count": 18,
      "outputs": [
        {
          "output_type": "stream",
          "text": [
            "0:04:36.125338\n"
          ],
          "name": "stdout"
        }
      ]
    },
    {
      "cell_type": "code",
      "metadata": {
        "colab": {
          "base_uri": "https://localhost:8080/"
        },
        "id": "f8U3drlniQW6",
        "outputId": "a453fbc1-028e-46ec-d2dd-05e96d23cde8"
      },
      "source": [
        "#evaluation of model 1 on test set\n",
        "y_test_rf = cross_val_predict(rf, X_test, y_test)\n",
        "score=f1_score(y_test, y_test_rf, average=\"macro\")\n",
        "pre=precision_score(y_test, y_test_rf, average=\"macro\")\n",
        "rec=recall_score(y_test, y_test_rf, average=\"macro\")\n",
        "print(score)\n",
        "print(precision_score(y_test, y_test_rf, average=\"macro\"))\n",
        "print(recall_score(y_test, y_test_rf, average=\"macro\")) "
      ],
      "execution_count": 19,
      "outputs": [
        {
          "output_type": "stream",
          "text": [
            "0.9487361740005626\n",
            "0.9490832012144468\n",
            "0.9485640299632584\n"
          ],
          "name": "stdout"
        }
      ]
    },
    {
      "cell_type": "code",
      "metadata": {
        "id": "Sj9nqbiIiQW8"
      },
      "source": [
        "metrics['RF - No PCA'] = [score, duration, X_train.shape[1], pre,rec]"
      ],
      "execution_count": 20,
      "outputs": []
    },
    {
      "cell_type": "markdown",
      "metadata": {
        "id": "bQOrWPWaiQW8"
      },
      "source": [
        "2. PCA - On training and test set combined"
      ]
    },
    {
      "cell_type": "code",
      "metadata": {
        "colab": {
          "base_uri": "https://localhost:8080/"
        },
        "id": "DtT0dbvQiQW9",
        "outputId": "a653e0db-f7d1-412f-cba7-f6813997b054"
      },
      "source": [
        "pca=PCA(n_components=0.95, random_state=seed)\n",
        "# Concatenate training and testing data\n",
        "X = np.concatenate([X_train, X_test]).astype(float)\n",
        "#Start for Time to Identify Pricipal Components\n",
        "start=datetime.datetime.now()\n",
        "\n",
        "# Fit and transform\n",
        "X = PCA(n_components=0.95, random_state=seed).fit_transform(X)\n",
        "\n",
        "end=datetime.datetime.now()\n",
        "duration1=end-start\n",
        "print(duration1)\n"
      ],
      "execution_count": 21,
      "outputs": [
        {
          "output_type": "stream",
          "text": [
            "0:00:12.768435\n"
          ],
          "name": "stdout"
        }
      ]
    },
    {
      "cell_type": "code",
      "metadata": {
        "id": "TiMPikrCiQW-"
      },
      "source": [
        "# Capture metrics (f1 score, precision score and recall score do not apply for PCA)\n",
        "metrics['PCA'] = [float('NaN'), duration1, X.shape[1], float('NaN'),float('NaN')]"
      ],
      "execution_count": 22,
      "outputs": []
    },
    {
      "cell_type": "markdown",
      "metadata": {
        "id": "BNpvfCmxiQW-"
      },
      "source": [
        "3. Random Forest Model 2 - reduced data set"
      ]
    },
    {
      "cell_type": "code",
      "metadata": {
        "colab": {
          "base_uri": "https://localhost:8080/"
        },
        "id": "w8sKmyjqiQW_",
        "outputId": "f80e6f4a-bb2c-4811-96ab-e72b98a619de"
      },
      "source": [
        "# Generate the components on training and testing data\n",
        "X_train_pca = X[0:60000]\n",
        "X_test_pca = X[-10000:]\n",
        "# Start timer for fit the model\n",
        "start=datetime.datetime.now()\n",
        "\n",
        "rf_2 = RandomForestClassifier(n_estimators=154, max_features=\"sqrt\", bootstrap=True, n_jobs=-1, random_state=seed)\n",
        "rf_2.fit(X_train_pca, y_train)\n",
        "\n",
        "end=datetime.datetime.now()\n",
        "duration2=end-start\n",
        "print(duration2)"
      ],
      "execution_count": 23,
      "outputs": [
        {
          "output_type": "stream",
          "text": [
            "0:02:11.083375\n"
          ],
          "name": "stdout"
        }
      ]
    },
    {
      "cell_type": "code",
      "metadata": {
        "colab": {
          "base_uri": "https://localhost:8080/"
        },
        "id": "g3DduKUhiQXA",
        "outputId": "398f1129-d685-4348-ce82-a9622c6fd795"
      },
      "source": [
        "#evaluation of model 2 on test set\n",
        "y_test_pca = cross_val_predict(rf_2, X_test_pca, y_test)\n",
        "score_pca=f1_score(y_test, y_test_pca, average=\"macro\")\n",
        "pre_pca=precision_score(y_test, y_test_pca, average=\"macro\")\n",
        "rec_pca=recall_score(y_test, y_test_pca, average=\"macro\")\n",
        "print(score_pca)\n",
        "print(pre_pca)\n",
        "print(rec_pca) \n"
      ],
      "execution_count": 24,
      "outputs": [
        {
          "output_type": "stream",
          "text": [
            "0.9212037388986107\n",
            "0.9216121175197243\n",
            "0.9211264526996862\n"
          ],
          "name": "stdout"
        }
      ]
    },
    {
      "cell_type": "code",
      "metadata": {
        "id": "3KFGLn1_iQXB"
      },
      "source": [
        "metrics['RF - PCA on All'] = [score_pca, duration2, X_train_pca.shape[1], pre_pca,rec_pca]"
      ],
      "execution_count": 25,
      "outputs": []
    },
    {
      "cell_type": "markdown",
      "metadata": {
        "id": "OXa_OH9giQXC"
      },
      "source": [
        "4. PCA - On training set only (Fix Design Flaw)"
      ]
    },
    {
      "cell_type": "code",
      "metadata": {
        "colab": {
          "base_uri": "https://localhost:8080/"
        },
        "id": "gDvCRXMxiQXC",
        "outputId": "73bc2a06-54d0-4bc2-e873-afe13c0ebdae"
      },
      "source": [
        "# Define PCA to explain at least 95% of variance of training data\n",
        "pca = PCA(n_components=0.95, random_state=seed)\n",
        "\n",
        "#Start for Time to Identify Pricipal Components\n",
        "start=datetime.datetime.now()\n",
        "\n",
        "\n",
        "# PCA should not be performed on the full data set and should instead be performed on both the\n",
        "# training and testing data sets separately.\n",
        "X_train_pca2 = pca.fit_transform(X_train)  \n",
        "X_test_pca2 = pca.transform(X_test) \n",
        "\n",
        "\n",
        "end=datetime.datetime.now()\n",
        "duration3=end-start\n",
        "print(duration3)\n",
        "no_of_pc2=pca.n_components_\n",
        "print(no_of_pc2)\n"
      ],
      "execution_count": 26,
      "outputs": [
        {
          "output_type": "stream",
          "text": [
            "0:00:11.017798\n",
            "154\n"
          ],
          "name": "stdout"
        }
      ]
    },
    {
      "cell_type": "code",
      "metadata": {
        "id": "EOYsRqoZiQXD"
      },
      "source": [
        "# Capture metrics (f1 score, precision score and recall score do not apply for PCA)\n",
        "metrics['PCA-Fixed'] = [float('NaN'), duration3,no_of_pc2, float('NaN'),float('NaN')]"
      ],
      "execution_count": 27,
      "outputs": []
    },
    {
      "cell_type": "code",
      "metadata": {
        "colab": {
          "base_uri": "https://localhost:8080/",
          "height": 302
        },
        "id": "QIvJ9OntiQXG",
        "outputId": "bd5e173b-5d1d-428f-8cfb-88a3d934a1af"
      },
      "source": [
        "#PCA result\n",
        "pca_explained_variance = pca.fit(X_train).explained_variance_ratio_\n",
        "plt.plot(np.cumsum(pca.explained_variance_ratio_))\n",
        "plt.xlabel('number of components')\n",
        "plt.ylabel('cumulative explained variance')"
      ],
      "execution_count": 28,
      "outputs": [
        {
          "output_type": "execute_result",
          "data": {
            "text/plain": [
              "Text(0, 0.5, 'cumulative explained variance')"
            ]
          },
          "metadata": {
            "tags": []
          },
          "execution_count": 28
        },
        {
          "output_type": "display_data",
          "data": {
            "image/png": "[encoded data removed]",
            "text/plain": [
              "<Figure size 432x288 with 1 Axes>"
            ]
          },
          "metadata": {
            "tags": [],
            "needs_background": "light"
          }
        }
      ]
    },
    {
      "cell_type": "markdown",
      "metadata": {
        "id": "0sEmhVyKiQXH"
      },
      "source": [
        "5. Random Forest Model 3 - PCA Fixed reduced data set "
      ]
    },
    {
      "cell_type": "code",
      "metadata": {
        "colab": {
          "base_uri": "https://localhost:8080/"
        },
        "id": "JWdyEkz2iQXI",
        "outputId": "2e751205-2c35-47f6-a6cf-d1cf0aeb8b13"
      },
      "source": [
        "# Start timer for fit the model\n",
        "start=datetime.datetime.now()\n",
        "\n",
        "rf_3 = RandomForestClassifier(n_estimators=154, max_features=\"sqrt\", bootstrap=True, n_jobs=-1, random_state=seed)\n",
        "rf_3.fit(X_train_pca2, y_train)\n",
        "\n",
        "end=datetime.datetime.now()\n",
        "duration4=end-start\n",
        "print(duration4)"
      ],
      "execution_count": 29,
      "outputs": [
        {
          "output_type": "stream",
          "text": [
            "0:02:11.879577\n"
          ],
          "name": "stdout"
        }
      ]
    },
    {
      "cell_type": "code",
      "metadata": {
        "colab": {
          "base_uri": "https://localhost:8080/"
        },
        "id": "UkYnHvJ5iQXJ",
        "outputId": "e0053b62-724e-46cd-b800-5ef32c10645e"
      },
      "source": [
        "#evaluation of model 3 on test set\n",
        "y_test_pca2 = cross_val_predict(rf_3, X_test_pca2, y_test)\n",
        "score_pca2=f1_score(y_test, y_test_pca2, average=\"macro\")\n",
        "pre_pca2=precision_score(y_test, y_test_pca2, average=\"macro\")\n",
        "rec_pca2=recall_score(y_test, y_test_pca2, average=\"macro\")\n",
        "print(score_pca2)\n",
        "print(pre_pca2)\n",
        "print(rec_pca2) \n",
        "\n"
      ],
      "execution_count": 30,
      "outputs": [
        {
          "output_type": "stream",
          "text": [
            "0.9209308513978076\n",
            "0.9213957106540203\n",
            "0.9208640916619864\n"
          ],
          "name": "stdout"
        }
      ]
    },
    {
      "cell_type": "code",
      "metadata": {
        "id": "U3yLogRhiQXK"
      },
      "source": [
        "# Store the results in a dictionary\n",
        "metrics['RF - PCA (Fixed)'] = [score_pca2, duration4, X_train_pca2.shape[1],\n",
        "                               pre_pca2,rec_pca2]"
      ],
      "execution_count": 31,
      "outputs": []
    },
    {
      "cell_type": "code",
      "metadata": {
        "id": "5tq24FTUiQXK"
      },
      "source": [
        "# Convert metrics dictionary to dataframe for display\n",
        "results = pd.DataFrame.from_dict(metrics, orient='index')\n",
        "results.columns = names\n",
        "#results.sort_values(by=['Time'], inplace=True)\n",
        "results.to_csv('results.csv')"
      ],
      "execution_count": 32,
      "outputs": []
    },
    {
      "cell_type": "code",
      "metadata": {
        "colab": {
          "base_uri": "https://localhost:8080/",
          "height": 288
        },
        "id": "qWi4L2fHiQXL",
        "outputId": "3e726d1a-6b6a-471d-b38a-be8c9fe7d4eb"
      },
      "source": [
        "results"
      ],
      "execution_count": 33,
      "outputs": [
        {
          "output_type": "execute_result",
          "data": {
            "text/html": [
              "<div>\n",
              "<style scoped>\n",
              "    .dataframe tbody tr th:only-of-type {\n",
              "        vertical-align: middle;\n",
              "    }\n",
              "\n",
              "    .dataframe tbody tr th {\n",
              "        vertical-align: top;\n",
              "    }\n",
              "\n",
              "    .dataframe thead th {\n",
              "        text-align: right;\n",
              "    }\n",
              "</style>\n",
              "<table border=\"1\" class=\"dataframe\">\n",
              "  <thead>\n",
              "    <tr style=\"text-align: right;\">\n",
              "      <th></th>\n",
              "      <th>F1 Score</th>\n",
              "      <th>Time</th>\n",
              "      <th>Number of Variables</th>\n",
              "      <th>Precision Score</th>\n",
              "      <th>Recall Score</th>\n",
              "    </tr>\n",
              "  </thead>\n",
              "  <tbody>\n",
              "    <tr>\n",
              "      <th>RF - No PCA</th>\n",
              "      <td>0.948736</td>\n",
              "      <td>0 days 00:04:36.125338</td>\n",
              "      <td>784</td>\n",
              "      <td>0.949083</td>\n",
              "      <td>0.948564</td>\n",
              "    </tr>\n",
              "    <tr>\n",
              "      <th>PCA</th>\n",
              "      <td>NaN</td>\n",
              "      <td>0 days 00:00:12.768435</td>\n",
              "      <td>154</td>\n",
              "      <td>NaN</td>\n",
              "      <td>NaN</td>\n",
              "    </tr>\n",
              "    <tr>\n",
              "      <th>RF - PCA on All</th>\n",
              "      <td>0.921204</td>\n",
              "      <td>0 days 00:02:11.083375</td>\n",
              "      <td>154</td>\n",
              "      <td>0.921612</td>\n",
              "      <td>0.921126</td>\n",
              "    </tr>\n",
              "    <tr>\n",
              "      <th>PCA-Fixed</th>\n",
              "      <td>NaN</td>\n",
              "      <td>0 days 00:00:11.017798</td>\n",
              "      <td>154</td>\n",
              "      <td>NaN</td>\n",
              "      <td>NaN</td>\n",
              "    </tr>\n",
              "    <tr>\n",
              "      <th>RF - PCA (Fixed)</th>\n",
              "      <td>0.920931</td>\n",
              "      <td>0 days 00:02:11.879577</td>\n",
              "      <td>154</td>\n",
              "      <td>0.921396</td>\n",
              "      <td>0.920864</td>\n",
              "    </tr>\n",
              "  </tbody>\n",
              "</table>\n",
              "</div>"
            ],
            "text/plain": [
              "                  F1 Score  ... Recall Score\n",
              "RF - No PCA       0.948736  ...     0.948564\n",
              "PCA                    NaN  ...          NaN\n",
              "RF - PCA on All   0.921204  ...     0.921126\n",
              "PCA-Fixed              NaN  ...          NaN\n",
              "RF - PCA (Fixed)  0.920931  ...     0.920864\n",
              "\n",
              "[5 rows x 5 columns]"
            ]
          },
          "metadata": {
            "tags": []
          },
          "execution_count": 33
        }
      ]
    },
    {
      "cell_type": "markdown",
      "metadata": {
        "id": "c4fOX3ApiQXM"
      },
      "source": [
        "6. K-means Clustering"
      ]
    },
    {
      "cell_type": "code",
      "metadata": {
        "colab": {
          "base_uri": "https://localhost:8080/"
        },
        "id": "PQJ-a9D2iQXM",
        "outputId": "2f0fec7e-d06c-40b0-c7ec-2cb6f094cff6"
      },
      "source": [
        "from keras.datasets import mnist\n",
        "(x_train, y_train), (x_test, y_test) = mnist.load_data()\n",
        "\n",
        "print('Training Data: {}'.format(x_train.shape))\n",
        "print('Training Labels: {}'.format(y_train.shape))\n",
        "\n",
        "print('Testing Data: {}'.format(x_test.shape))\n",
        "print('Testing Labels: {}'.format(y_test.shape))\n"
      ],
      "execution_count": 34,
      "outputs": [
        {
          "output_type": "stream",
          "text": [
            "Downloading data from https://storage.googleapis.com/tensorflow/tf-keras-datasets/mnist.npz\n",
            "11493376/11490434 [==============================] - 0s 0us/step\n",
            "Training Data: (60000, 28, 28)\n",
            "Training Labels: (60000,)\n",
            "Testing Data: (10000, 28, 28)\n",
            "Testing Labels: (10000,)\n"
          ],
          "name": "stdout"
        }
      ]
    },
    {
      "cell_type": "code",
      "metadata": {
        "colab": {
          "base_uri": "https://localhost:8080/",
          "height": 708
        },
        "id": "wvyU2c-tiQXN",
        "outputId": "736f6e13-b45d-48b9-8612-7abef6d95e42"
      },
      "source": [
        "fig, axs = plt.subplots(3, 3, figsize = (12, 12))\n",
        "plt.gray()\n",
        "for i, ax in enumerate(axs.flat):\n",
        "    ax.matshow(x_train[i])\n",
        "    ax.axis('off')\n",
        "    ax.set_title('Number {}'.format(y_train[i]))\n",
        "fig.show()"
      ],
      "execution_count": 43,
      "outputs": [
        {
          "output_type": "display_data",
          "data": {
            "image/png": "[encoded data removed]",
            "text/plain": [
              "<Figure size 864x864 with 9 Axes>"
            ]
          },
          "metadata": {
            "tags": [],
            "needs_background": "light"
          }
        }
      ]
    },
    {
      "cell_type": "code",
      "metadata": {
        "id": "w-duBOgciQXO"
      },
      "source": [
        "# Data Normalization\n",
        "# Conversion to float\n",
        "x_train = x_train.astype('float32') \n",
        "x_test = x_test.astype('float32')\n",
        "# Normalization\n",
        "x_train = x_train/255.0\n",
        "x_test = x_test/255.0"
      ],
      "execution_count": 44,
      "outputs": []
    },
    {
      "cell_type": "code",
      "metadata": {
        "colab": {
          "base_uri": "https://localhost:8080/"
        },
        "id": "pJ8Yyn1ZiQXP",
        "outputId": "3102a3bf-90f7-4497-f944-0eb5a91cb3cc"
      },
      "source": [
        "# Checking the minimum and maximum values of x_train\n",
        "print(x_train.min())\n",
        "print(x_train.max())\n",
        "# Reshaping input data\n",
        "X_train = x_train.reshape(len(x_train),-1)\n",
        "X_test = x_test.reshape(len(x_test),-1)"
      ],
      "execution_count": 45,
      "outputs": [
        {
          "output_type": "stream",
          "text": [
            "0.0\n",
            "0.003921569\n"
          ],
          "name": "stdout"
        }
      ]
    },
    {
      "cell_type": "code",
      "metadata": {
        "colab": {
          "base_uri": "https://localhost:8080/"
        },
        "id": "XhkxT-u7iQXQ",
        "outputId": "cb1fe8b4-5694-4df8-dd9b-d16c94ad173e"
      },
      "source": [
        "# Checking the shape\n",
        "print(X_train.shape)\n",
        "print(X_test.shape)"
      ],
      "execution_count": 38,
      "outputs": [
        {
          "output_type": "stream",
          "text": [
            "(60000, 784)\n",
            "(10000, 784)\n"
          ],
          "name": "stdout"
        }
      ]
    },
    {
      "cell_type": "code",
      "metadata": {
        "colab": {
          "base_uri": "https://localhost:8080/"
        },
        "id": "ZjwpSlIAiQXR",
        "outputId": "79b6bf9c-8987-4c19-f513-4226778266a4"
      },
      "source": [
        "from sklearn.cluster import MiniBatchKMeans\n",
        "total_clusters = len(np.unique(y_test))\n",
        "# Initialize the K-Means model\n",
        "kmeans = MiniBatchKMeans(n_clusters = total_clusters)\n",
        "# Fitting the model to training set\n",
        "kmeans.fit(X_train)\n",
        "kmeans.labels_"
      ],
      "execution_count": 46,
      "outputs": [
        {
          "output_type": "execute_result",
          "data": {
            "text/plain": [
              "array([7, 9, 2, ..., 1, 5, 8], dtype=int32)"
            ]
          },
          "metadata": {
            "tags": []
          },
          "execution_count": 46
        }
      ]
    },
    {
      "cell_type": "code",
      "metadata": {
        "id": "la3jfQbBiQXS"
      },
      "source": [
        "def retrieve_info(cluster_labels,y_train):\n",
        "\n",
        "#Associates most probable label with each cluster in KMeans model\n",
        " #returns: dictionary of clusters assigned to each label\n",
        "# Initializing\n",
        "    reference_labels = {}\n",
        "# For loop to run through each label of cluster label\n",
        "    for i in range(len(np.unique(kmeans.labels_))):\n",
        "        index = np.where(cluster_labels == i,1,0)\n",
        "        num = np.bincount(y_train[index==1]).argmax()\n",
        "        reference_labels[i] = num\n",
        "    return reference_labels"
      ],
      "execution_count": 47,
      "outputs": []
    },
    {
      "cell_type": "code",
      "metadata": {
        "id": "fk-EV1c-iQXT"
      },
      "source": [
        "reference_labels = retrieve_info(kmeans.labels_,y_train)\n",
        "number_labels = np.random.rand(len(kmeans.labels_))\n",
        "for i in range(len(kmeans.labels_)):\n",
        "    number_labels[i] = reference_labels[kmeans.labels_[i]]"
      ],
      "execution_count": 48,
      "outputs": []
    },
    {
      "cell_type": "code",
      "metadata": {
        "colab": {
          "base_uri": "https://localhost:8080/"
        },
        "id": "8wXmaldjiQXU",
        "outputId": "8bd2dfd4-9430-4d9f-df35-c6ef6669614b"
      },
      "source": [
        "# Comparing Predicted values and Actual values\n",
        "print(number_labels[:20].astype('int'))\n",
        "print(y_train[:20])"
      ],
      "execution_count": 49,
      "outputs": [
        {
          "output_type": "stream",
          "text": [
            "[8 0 9 1 7 2 1 8 1 7 8 1 3 6 1 7 2 1 6 7]\n",
            "[5 0 4 1 9 2 1 3 1 4 3 5 3 6 1 7 2 8 6 9]\n"
          ],
          "name": "stdout"
        }
      ]
    },
    {
      "cell_type": "code",
      "metadata": {
        "colab": {
          "base_uri": "https://localhost:8080/"
        },
        "id": "_xpRQEK6iQXV",
        "outputId": "a2937c47-d257-4c9c-ced0-469be7d73f01"
      },
      "source": [
        "# Calculating accuracy score\n",
        "from sklearn.metrics import accuracy_score\n",
        "print(accuracy_score(number_labels,y_train))"
      ],
      "execution_count": 50,
      "outputs": [
        {
          "output_type": "stream",
          "text": [
            "0.4988166666666667\n"
          ],
          "name": "stdout"
        }
      ]
    },
    {
      "cell_type": "code",
      "metadata": {
        "id": "0ksWRX4NiQXW"
      },
      "source": [
        "def calculate_metrics(model,output):\n",
        "    print('Number of clusters is {}'.format(model.n_clusters))\n",
        "    print('Inertia : {}'.format(model.inertia_))\n",
        "    print('Homogeneity :       {}'.format(metrics.homogeneity_score(output,model.labels_)))"
      ],
      "execution_count": 51,
      "outputs": []
    },
    {
      "cell_type": "code",
      "metadata": {
        "colab": {
          "base_uri": "https://localhost:8080/"
        },
        "id": "V8p_eIvuiQXX",
        "outputId": "e2169b6c-ad16-4ba4-b59b-9f5ab8f0a911"
      },
      "source": [
        "from sklearn import metrics\n",
        "cluster_number = [10,16,36,64,144,256]\n",
        "for i in cluster_number:\n",
        "    total_clusters = len(np.unique(y_test))\n",
        "# Initialize the K-Means model\n",
        "    kmeans = MiniBatchKMeans(n_clusters = i)\n",
        "# Fitting the model to training set\n",
        "    kmeans.fit(X_train)\n",
        "# Calculating the metrics\n",
        " \n",
        "    calculate_metrics(kmeans,y_train)\n",
        "# Calculating reference_labels\n",
        "    reference_labels = retrieve_info(kmeans.labels_,y_train)\n",
        "# ‘number_labels’ is a list which denotes the number displayed in image\n",
        "    number_labels = np.random.rand(len(kmeans.labels_))\n",
        "    for i in range(len(kmeans.labels_)):\n",
        " \n",
        "        number_labels[i] = reference_labels[kmeans.labels_[i]]\n",
        " \n",
        "    print('Accuracy score : {}'.format(accuracy_score(number_labels,y_train)))\n",
        "    print('\\n')"
      ],
      "execution_count": 52,
      "outputs": [
        {
          "output_type": "stream",
          "text": [
            "Number of clusters is 10\n",
            "Inertia : 36.58589172363281\n",
            "Homogeneity :       0.4658488367244745\n",
            "Accuracy score : 0.5419333333333334\n",
            "\n",
            "\n",
            "Number of clusters is 16\n",
            "Inertia : 34.20600128173828\n",
            "Homogeneity :       0.5556738805305491\n",
            "Accuracy score : 0.6545\n",
            "\n",
            "\n",
            "Number of clusters is 36\n",
            "Inertia : 31.870241165161133\n",
            "Homogeneity :       0.634196208624649\n",
            "Accuracy score : 0.727\n",
            "\n",
            "\n",
            "Number of clusters is 64\n",
            "Inertia : 27.843994140625\n",
            "Homogeneity :       0.7447752459686278\n",
            "Accuracy score : 0.83225\n",
            "\n",
            "\n",
            "Number of clusters is 144\n",
            "Inertia : 25.117664337158203\n",
            "Homogeneity :       0.7941975145574485\n",
            "Accuracy score : 0.8559666666666667\n",
            "\n",
            "\n",
            "Number of clusters is 256\n",
            "Inertia : 23.23405647277832\n",
            "Homogeneity :       0.8428251691196161\n",
            "Accuracy score : 0.9008166666666667\n",
            "\n",
            "\n"
          ],
          "name": "stdout"
        }
      ]
    },
    {
      "cell_type": "code",
      "metadata": {
        "colab": {
          "base_uri": "https://localhost:8080/"
        },
        "id": "cYx5fmfQiQXa",
        "outputId": "cb94c9fd-597c-4e50-ef73-f4a3b77d4767"
      },
      "source": [
        "# Testing model on Testing set\n",
        "# Initialize the K-Means model\n",
        "kmeans = MiniBatchKMeans(n_clusters = 256)\n",
        "# Fitting the model to testing set\n",
        "kmeans.fit(X_test)\n",
        "# Calculating the metrics\n",
        "calculate_metrics(kmeans,y_test)\n",
        "# Calculating the reference_labels\n",
        "reference_labels = retrieve_info(kmeans.labels_,y_test)\n",
        "# ‘number_labels’ is a list which denotes the number displayed in image\n",
        "number_labels = np.random.rand(len(kmeans.labels_))\n",
        "for i in range(len(kmeans.labels_)):\n",
        " \n",
        "    number_labels[i] = reference_labels[kmeans.labels_[i]]\n",
        " \n",
        "print('Accuracy score : {}'.format(accuracy_score(number_labels,y_test)))\n",
        "print('\\n')"
      ],
      "execution_count": 53,
      "outputs": [
        {
          "output_type": "stream",
          "text": [
            "Number of clusters is 256\n",
            "Inertia : 3.777113914489746\n",
            "Homogeneity :       0.8570622713133743\n",
            "Accuracy score : 0.8984\n",
            "\n",
            "\n"
          ],
          "name": "stdout"
        }
      ]
    },
    {
      "cell_type": "code",
      "metadata": {
        "colab": {
          "base_uri": "https://localhost:8080/"
        },
        "id": "jMgGmf6siQXb",
        "outputId": "c23e1bed-ca16-440c-cf19-ba4b7b780587"
      },
      "source": [
        "# Cluster centroids is stored in ‘centroids’\n",
        "centroids = kmeans.cluster_centers_\n",
        "centroids.shape"
      ],
      "execution_count": 54,
      "outputs": [
        {
          "output_type": "execute_result",
          "data": {
            "text/plain": [
              "(256, 784)"
            ]
          },
          "metadata": {
            "tags": []
          },
          "execution_count": 54
        }
      ]
    },
    {
      "cell_type": "code",
      "metadata": {
        "id": "7jvpy0-ciQXe"
      },
      "source": [
        "centroids = centroids.reshape(256,28,28)\n",
        "centroids = centroids * 255"
      ],
      "execution_count": 55,
      "outputs": []
    },
    {
      "cell_type": "code",
      "metadata": {
        "colab": {
          "base_uri": "https://localhost:8080/",
          "height": 540
        },
        "id": "Kz_ODhIUiQXe",
        "outputId": "62daa1e9-1d8b-40a8-84cb-b06532bf88c2"
      },
      "source": [
        "plt.figure(figsize = (10,9))\n",
        "bottom = 0.35\n",
        "for i in range(16):\n",
        "    plt.subplots_adjust(bottom)\n",
        "    plt.subplot(4,4,i+1)\n",
        "    plt.title('Number:{}'.format(reference_labels[i]),fontsize = 17)\n",
        "    plt.imshow(centroids[i])"
      ],
      "execution_count": 56,
      "outputs": [
        {
          "output_type": "display_data",
          "data": {
            "image/png": "[encoded data removed]",
            "text/plain": [
              "<Figure size 720x648 with 16 Axes>"
            ]
          },
          "metadata": {
            "tags": [],
            "needs_background": "light"
          }
        }
      ]
    },
    {
      "cell_type": "markdown",
      "metadata": {
        "id": "RbV9_GKf0nC9"
      },
      "source": [
        "\n",
        "# Conclusion"
      ]
    },
    {
      "cell_type": "markdown",
      "metadata": {
        "id": "QyYjVuMHILXt"
      },
      "source": [
        "**Background and management problem description**\n",
        "\n",
        "From a management perspective, the predictive accuracy of models must be weighed against the costs of model development and implementation. In this research, we will develop a classifier using random forest model that may be used to predict which of the 10 digits is being written. In the development process, we will compare the standard random forest classifier with an improved version of model using PCA as preliminary step to reduce the number of principal components. This will help to make the choice that balance the tradeoff between performance and cost of model development and implementation.\n",
        "\n",
        "**Research design and modeling methods**\n",
        "\n",
        "There are 70,000 handwritten digits. Each row represents one of these digits. There are 785 columns of data. 784 of them are the integer grey scale values of each pixel in a 28 x 28 pixel square. The first column is the ‘response’ variable, which is the actual value to test the predicted estimate against.\n",
        "\n",
        "The steps for the analysis are the following:\n",
        "1) Fit a random forest multi class model using all variables (784)\n",
        "2) Use Principle Components Analysis (PCA) on the combined training and test set data together to reduce the principal components\n",
        "3) Use Principle Components Analysis (PCA) on the training set data only to reduce the principal components\n",
        "4) Fit another random forest model using reduced data set from 2) and 3) respectively\n",
        "5) Compare the model timing, F1, Precision & Recall Scores\n",
        "6) Use k-means clustering to group MNIST observations into 1 of 10 categories and then assign labels\n",
        "\n",
        "**Results and Recommendations** \n",
        "\n",
        "Below is a summary of the models that were created in the process of this analysis and their performance comparison. Performance variables include the reduced number of estimators as well as the F1, Precision and Recall scores of test sets.\n",
        "\n",
        "![image.png](data:image/png;base64,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)\n",
        "\n",
        "Random Forest Model without PCA has the highest F1 score, as well as precision/recall score. However, the time to fit the model is almost doubled as that of Random Forest Models with PCA.\n",
        "\n",
        "The number of principal components identified in the PCA is only 154, substantially fewer than the 784 explanatory variables but still explain 95% of the variance in the original data. The time it takes to identify the principal components is around 12.77 seconds.\n",
        "\n",
        "Compare the RF with PCA on all dataset to the original model, it improves the process with less time. The score is slightly lower than the original RF model with around 0.921 for F1 score, precision score and recall score, 0.02 lower than the original model. \n",
        "\n",
        "The version of PCA analysis fixed the design flaw by fitting only on training set spent less time than the PCA analysis on all dataset to identify the principle components, and the score of RF with fixed PCA is slightly lower than RF with PCA on all dataset.\n",
        "\n",
        "Therefore, the random forest model with PCA on training set should be recommended to the managers. The reason is that the preliminary PCA analysis applied helped develop a random forest model with much fewer explanatory variables, but still will yield more than 0.92 score performance but decrease the process time.\n",
        "\n",
        "K-mean clustering shows the higher number of clustering is, the higher accuracy score. When the cluster number reaches to 256, the accuracy score on training and testing set are very similar and around 90% which suggests the model is not overfitting the training data and can be generalized well to new data.\n",
        "\n"
      ]
    }
  ]
}